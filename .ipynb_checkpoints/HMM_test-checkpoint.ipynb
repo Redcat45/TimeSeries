{
 "cells": [
  {
   "cell_type": "markdown",
   "metadata": {},
   "source": [
    "## HMMの動作テスト"
   ]
  },
  {
   "cell_type": "code",
   "execution_count": 1,
   "metadata": {
    "collapsed": true
   },
   "outputs": [],
   "source": [
    "import numpy as np\n",
    "import matplotlib.pyplot as plt\n",
    "from source.HMM import HMM\n",
    "from source.Models import Poisson\n",
    "%matplotlib inline"
   ]
  },
  {
   "cell_type": "code",
   "execution_count": 2,
   "metadata": {
    "collapsed": true
   },
   "outputs": [],
   "source": [
    "hidden = 2     # 隠れ層の数"
   ]
  },
  {
   "cell_type": "code",
   "execution_count": 3,
   "metadata": {
    "collapsed": true
   },
   "outputs": [],
   "source": [
    "# 遷移確率の定義\n",
    "true_init = np.array([.8, .2])                  # 初期状態確率\n",
    "true_trans = np.array([[.8, .2], [.5, .5]])     # 状態遷移確率"
   ]
  },
  {
   "cell_type": "code",
   "execution_count": 4,
   "metadata": {},
   "outputs": [],
   "source": [
    "# 系列データの生成\n",
    "np.random.seed(0)\n",
    "seq = [1]           # 状態系列\n",
    "init = 0\n",
    "for i in xrange(200):\n",
    "    seq.append(np.random.choice([0, 1], p=true_trans[seq[-1], :]))"
   ]
  },
  {
   "cell_type": "markdown",
   "metadata": {},
   "source": [
    "### 訓練データ用の系列の生成\n",
    "隠れ状態毎にポアソン分布を当てはめる\n",
    "$$\n",
    "x_i \\sim \\mathcal{Poisson}(\\lambda_i)\n",
    "$$"
   ]
  },
  {
   "cell_type": "code",
   "execution_count": 14,
   "metadata": {
    "collapsed": true
   },
   "outputs": [],
   "source": [
    "# ポアソン分布のパラメータ\n",
    "param = np.array([1., 4.])"
   ]
  },
  {
   "cell_type": "code",
   "execution_count": 15,
   "metadata": {
    "collapsed": true
   },
   "outputs": [],
   "source": [
    "# 状態に基づいた観測値生成\n",
    "np.random.seed(0)\n",
    "X = []\n",
    "for s in seq:\n",
    "    X.append(np.random.poisson(param[s]))\n",
    "X = np.array(X)"
   ]
  },
  {
   "cell_type": "markdown",
   "metadata": {},
   "source": [
    "### 系列の可視化\n",
    "赤点と青点で隠れ状態を表示している"
   ]
  },
  {
   "cell_type": "code",
   "execution_count": 16,
   "metadata": {},
   "outputs": [
    {
     "data": {
      "image/png": "[encoded data removed]",
      "text/plain": [
       "<matplotlib.figure.Figure at 0x1126a5e10>"
      ]
     },
     "metadata": {},
     "output_type": "display_data"
    }
   ],
   "source": [
    "T = len(seq)\n",
    "seq = np.array(seq)\n",
    "time = np.arange(T)\n",
    "plt.figure(figsize=(10, 3))\n",
    "plt.scatter(time[seq == 0], X[seq == 0], c=\"r\", s=10)\n",
    "plt.scatter(time[seq == 1], X[seq == 1], c=\"b\", s=10)\n",
    "plt.ylabel(r\"$x_t$\", fontsize=18)\n",
    "plt.xlabel(\"Time\", fontsize=18)\n",
    "plt.show()"
   ]
  },
  {
   "cell_type": "markdown",
   "metadata": {},
   "source": [
    "### HMMのモデルを定義する"
   ]
  },
  {
   "cell_type": "code",
   "execution_count": 17,
   "metadata": {
    "collapsed": true
   },
   "outputs": [],
   "source": [
    "model = Poisson(hidden)     # 観測モデルはポアソン\n",
    "hmm = HMM(model, hidden)"
   ]
  },
  {
   "cell_type": "markdown",
   "metadata": {},
   "source": [
    "### HMMの学習"
   ]
  },
  {
   "cell_type": "code",
   "execution_count": 18,
   "metadata": {
    "scrolled": true
   },
   "outputs": [],
   "source": [
    "hmm.fit(X)"
   ]
  },
  {
   "cell_type": "code",
   "execution_count": 19,
   "metadata": {},
   "outputs": [
    {
     "name": "stdout",
     "output_type": "stream",
     "text": [
      "Init : \n",
      "[  6.51086486e-64   1.00000000e+00]\n",
      "Transition : \n",
      "[[ 0.82567633  0.17432367]\n",
      " [ 0.47543537  0.52456463]]\n",
      "Poisson Parameter : \n",
      "[ 1.12281173  4.01028699]\n"
     ]
    }
   ],
   "source": [
    "# 学習したパラメータの表示\n",
    "print \"Init : \\n{}\".format(hmm.init)\n",
    "print \"Transition : \\n{}\".format(hmm.trans)\n",
    "print \"Poisson Parameter : \\n{}\".format(hmm.model.param)"
   ]
  },
  {
   "cell_type": "markdown",
   "metadata": {
    "collapsed": true
   },
   "source": [
    "### 状態系列の推定"
   ]
  },
  {
   "cell_type": "code",
   "execution_count": 20,
   "metadata": {},
   "outputs": [],
   "source": [
    "pred_seq = hmm.predict(X)\n",
    "pred_seq = np.array(pred_seq)"
   ]
  },
  {
   "cell_type": "code",
   "execution_count": 22,
   "metadata": {},
   "outputs": [
    {
     "data": {
      "image/png": "[encoded data removed]",
      "text/plain": [
       "<matplotlib.figure.Figure at 0x118756310>"
      ]
     },
     "metadata": {},
     "output_type": "display_data"
    },
    {
     "data": {
      "image/png": "[encoded data removed]",
      "text/plain": [
       "<matplotlib.figure.Figure at 0x11874cd50>"
      ]
     },
     "metadata": {},
     "output_type": "display_data"
    }
   ],
   "source": [
    "T = len(seq)\n",
    "\n",
    "# 真の状態系列\n",
    "plt.figure(figsize=(10, 3))\n",
    "plt.scatter(time[seq == 0], X[seq == 0], c=\"r\", s=10)\n",
    "plt.scatter(time[seq == 1], X[seq == 1], c=\"b\", s=10)\n",
    "plt.ylabel(r\"$x_t$\", fontsize=18)\n",
    "plt.xlabel(\"Time\", fontsize=18)\n",
    "plt.title(\"True State\", fontsize=20)\n",
    "plt.show()\n",
    "\n",
    "# 推定状態系列\n",
    "plt.figure(figsize=(10, 3))\n",
    "plt.scatter(time[pred_seq == 0], X[pred_seq == 0], c=\"r\", s=10)\n",
    "plt.scatter(time[pred_seq == 1], X[pred_seq == 1], c=\"b\", s=10)\n",
    "plt.ylabel(r\"$x_t$\", fontsize=18)\n",
    "plt.xlabel(\"Time\", fontsize=18)\n",
    "plt.title(\"Predict State\", fontsize=20)\n",
    "plt.show()"
   ]
  },
  {
   "cell_type": "code",
   "execution_count": null,
   "metadata": {
    "collapsed": true
   },
   "outputs": [],
   "source": []
  }
 ],
 "metadata": {
  "kernelspec": {
   "display_name": "Python [conda root]",
   "language": "python",
   "name": "conda-root-py"
  },
  "language_info": {
   "codemirror_mode": {
    "name": "ipython",
    "version": 2
   },
   "file_extension": ".py",
   "mimetype": "text/x-python",
   "name": "python",
   "nbconvert_exporter": "python",
   "pygments_lexer": "ipython2",
   "version": "2.7.13"
  }
 },
 "nbformat": 4,
 "nbformat_minor": 2
}
