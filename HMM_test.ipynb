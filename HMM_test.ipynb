{
 "cells": [
  {
   "cell_type": "markdown",
   "metadata": {},
   "source": [
    "## HMMの実装テスト"
   ]
  },
  {
   "cell_type": "code",
   "execution_count": 2,
   "metadata": {
    "collapsed": true
   },
   "outputs": [],
   "source": [
    "import numpy as np\n",
    "import matplotlib.pyplot as plt\n",
    "%matplotlib inline"
   ]
  },
  {
   "cell_type": "code",
   "execution_count": 3,
   "metadata": {},
   "outputs": [],
   "source": [
    "hidden = 2     # 隠れ層の数\n",
    "trans = np.tile(np.ones(hidden, dtype=float) / hidden, (hidden, 1))\n",
    "init = np.ones(hidden, dtype=float) / hidden"
   ]
  },
  {
   "cell_type": "code",
   "execution_count": 4,
   "metadata": {
    "collapsed": true
   },
   "outputs": [],
   "source": [
    "np.random.seed(0)\n",
    "true_init = np.array([.8, .2])\n",
    "true_trans = np.array([[.8, .2], [.5, .5]])"
   ]
  },
  {
   "cell_type": "code",
   "execution_count": 5,
   "metadata": {},
   "outputs": [
    {
     "data": {
      "text/plain": [
       "<matplotlib.colorbar.Colorbar at 0x10cadcbd0>"
      ]
     },
     "execution_count": 5,
     "metadata": {},
     "output_type": "execute_result"
    },
    {
     "data": {
      "image/png": "[encoded data removed]",
      "text/plain": [
       "<matplotlib.figure.Figure at 0x10974c8d0>"
      ]
     },
     "metadata": {},
     "output_type": "display_data"
    }
   ],
   "source": [
    "plt.imshow(true_trans)\n",
    "plt.colorbar()"
   ]
  },
  {
   "cell_type": "code",
   "execution_count": 77,
   "metadata": {
    "collapsed": true
   },
   "outputs": [],
   "source": [
    "# 系列データの生成\n",
    "np.random.seed(0)\n",
    "seq = [1]           # 状態系列\n",
    "init = 0\n",
    "for i in xrange(200):\n",
    "    seq.append(np.random.choice([0, 1], p=true_trans[seq[-1], :]))"
   ]
  },
  {
   "cell_type": "markdown",
   "metadata": {},
   "source": [
    "隠れ状態毎にポアソン分布を当てはめる\n",
    "$$\n",
    "x_i \\sim \\mathcal{Poisson}(\\lambda_i)\n",
    "$$"
   ]
  },
  {
   "cell_type": "code",
   "execution_count": 78,
   "metadata": {
    "collapsed": true
   },
   "outputs": [],
   "source": [
    "# ポアソン分布のパラメータ\n",
    "param = np.array([1., 4.])"
   ]
  },
  {
   "cell_type": "code",
   "execution_count": 79,
   "metadata": {
    "collapsed": true
   },
   "outputs": [],
   "source": [
    "# 状態に基づいた観測値生成\n",
    "np.random.seed(0)\n",
    "X = []\n",
    "for s in seq:\n",
    "    X.append(np.random.poisson(param[s]))\n",
    "X = np.array(X)"
   ]
  },
  {
   "cell_type": "code",
   "execution_count": 80,
   "metadata": {},
   "outputs": [
    {
     "data": {
      "image/png": "[encoded data removed]",
      "text/plain": [
       "<matplotlib.figure.Figure at 0x10ee69fd0>"
      ]
     },
     "metadata": {},
     "output_type": "display_data"
    }
   ],
   "source": [
    "T = len(seq)\n",
    "seq = np.array(seq)\n",
    "time = np.arange(T)\n",
    "plt.figure(figsize=(10, 3))\n",
    "plt.scatter(time[seq == 0], X[seq == 0], c=\"r\", s=10)\n",
    "plt.scatter(time[seq == 1], X[seq == 1], c=\"b\", s=10)\n",
    "plt.ylabel(r\"$x_t$\", fontsize=18)\n",
    "plt.xlabel(\"Time\", fontsize=18)\n",
    "plt.show()"
   ]
  },
  {
   "cell_type": "code",
   "execution_count": 81,
   "metadata": {},
   "outputs": [
    {
     "data": {
      "text/plain": [
       "<matplotlib.figure.Figure at 0x10f192f50>"
      ]
     },
     "metadata": {},
     "output_type": "display_data"
    }
   ],
   "source": [
    "%run HMM.py\n",
    "%run Models.py"
   ]
  },
  {
   "cell_type": "code",
   "execution_count": 82,
   "metadata": {},
   "outputs": [],
   "source": [
    "model = Poisson(hidden)\n",
    "hmm = HMM(model, hidden)"
   ]
  },
  {
   "cell_type": "code",
   "execution_count": 83,
   "metadata": {
    "scrolled": true
   },
   "outputs": [
    {
     "name": "stdout",
     "output_type": "stream",
     "text": [
      "-384.550666246\n",
      "-370.479088212\n",
      "-367.783599636\n",
      "-366.414244368\n",
      "-365.509387782\n",
      "-364.759204845\n",
      "-364.094355038\n",
      "-363.504501615\n",
      "-362.989952744\n",
      "-362.551785775\n",
      "-362.189361072\n",
      "-361.899247717\n",
      "-361.674956653\n",
      "-361.507509785\n",
      "-361.386608405\n",
      "-361.301942865\n",
      "-361.244230063\n",
      "-361.205786852\n",
      "-361.180667963\n",
      "-361.164512398\n",
      "-361.154253547\n",
      "-361.147805349\n",
      "-361.143785086\n",
      "-361.14129458\n",
      "-361.139759499\n",
      "-361.138817051\n"
     ]
    }
   ],
   "source": [
    "hmm.fit(X)"
   ]
  },
  {
   "cell_type": "code",
   "execution_count": 84,
   "metadata": {},
   "outputs": [
    {
     "name": "stdout",
     "output_type": "stream",
     "text": [
      "[[ 0.82567633  0.17432367]\n",
      " [ 0.47543537  0.52456463]]\n",
      "[ 1.12281173  4.01028699]\n"
     ]
    }
   ],
   "source": [
    "print hmm.trans\n",
    "print hmm.model.param"
   ]
  },
  {
   "cell_type": "code",
   "execution_count": null,
   "metadata": {
    "collapsed": true
   },
   "outputs": [],
   "source": []
  }
 ],
 "metadata": {
  "kernelspec": {
   "display_name": "Python [conda root]",
   "language": "python",
   "name": "conda-root-py"
  },
  "language_info": {
   "codemirror_mode": {
    "name": "ipython",
    "version": 2
   },
   "file_extension": ".py",
   "mimetype": "text/x-python",
   "name": "python",
   "nbconvert_exporter": "python",
   "pygments_lexer": "ipython2",
   "version": "2.7.13"
  }
 },
 "nbformat": 4,
 "nbformat_minor": 2
}
